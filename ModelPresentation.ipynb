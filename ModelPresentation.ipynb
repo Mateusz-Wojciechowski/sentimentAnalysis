{
 "cells": [
  {
   "cell_type": "markdown",
   "id": "c9a89ee9-4139-4cf0-9719-d292ee96034e",
   "metadata": {},
   "source": [
    "# Presenting Model Performance\n"
   ]
  },
  {
   "cell_type": "markdown",
   "id": "99e0c2e1-56b3-4347-a86c-e511debdc468",
   "metadata": {},
   "source": [
    "## Importing necessary libraries"
   ]
  },
  {
   "cell_type": "code",
   "execution_count": null,
   "id": "795028cd-3380-4fb1-b39f-396e5b518b49",
   "metadata": {},
   "outputs": [],
   "source": [
    "import torch\n",
    "from torchtext.datasets import IMDB\n",
    "from torchtext.data.utils import get_tokenizer\n",
    "from torchtext.vocab import build_vocab_from_iterator\n",
    "from SentimentModel import SentimentModel\n",
    "import random"
   ]
  },
  {
   "cell_type": "markdown",
   "id": "1682e53f-598c-49f4-a881-040daf6153dc",
   "metadata": {},
   "source": [
    "## Creating a tokenizer, and methods for tokenizing the data"
   ]
  },
  {
   "cell_type": "code",
   "execution_count": 2,
   "id": "d62794dd-5929-48df-9476-550e540c6095",
   "metadata": {},
   "outputs": [],
   "source": [
    "tokenizer = get_tokenizer('basic_english')\n",
    "\n",
    "\n",
    "def yield_tokens(data_iter):\n",
    "    for text in data_iter:\n",
    "        yield tokenizer(text)\n",
    "\n",
    "\n",
    "def tokenize_and_transform(sentence, vocab, tokenizer):\n",
    "    tokens = tokenizer(sentence)\n",
    "    token_ids = [vocab[token] for token in tokens]\n",
    "    return torch.tensor(token_ids, dtype=torch.long).unsqueeze(0)"
   ]
  },
  {
   "cell_type": "markdown",
   "id": "aaa0f9b5-bf19-4d73-a860-f582ec7cb734",
   "metadata": {},
   "source": [
    "## Loading the data and building vocab"
   ]
  },
  {
   "cell_type": "code",
   "execution_count": 3,
   "id": "0ebd5645-a6e4-4299-8082-96e173b78a69",
   "metadata": {},
   "outputs": [],
   "source": [
    "train_data = list(IMDB(split='train'))\n",
    "random.shuffle(train_data)\n",
    "\n",
    "vocab = build_vocab_from_iterator(yield_tokens(data_iter for label, data_iter in train_data), specials=[\"<unk>\", \"<pad>\"])\n",
    "vocab.set_default_index(vocab[\"<unk>\"])"
   ]
  },
  {
   "cell_type": "markdown",
   "id": "a002bec0-0522-4281-a498-f7a5a61289dc",
   "metadata": {},
   "source": [
    "## Setting parameters for model initialization"
   ]
  },
  {
   "cell_type": "code",
   "execution_count": 4,
   "id": "b92e9860-7273-4e66-8ee5-0df280ff527c",
   "metadata": {},
   "outputs": [],
   "source": [
    "d_model = 512\n",
    "num_heads = 8\n",
    "max_seq_len = 5000\n",
    "d_ff = 2048\n",
    "learning_rate = 0.001\n",
    "num_classes = 2\n",
    "vocab_size = len(vocab)\n",
    "num_epochs = 100"
   ]
  },
  {
   "cell_type": "markdown",
   "id": "74e0d144-ec72-47ad-a9d7-75fd0b44a211",
   "metadata": {},
   "source": [
    "## Creating the model and loading trained state from .pth file"
   ]
  },
  {
   "cell_type": "code",
   "execution_count": 5,
   "id": "857f35a9-1e3e-4eed-853d-0fd9850851b3",
   "metadata": {},
   "outputs": [
    {
     "data": {
      "text/plain": [
       "<All keys matched successfully>"
      ]
     },
     "execution_count": 5,
     "metadata": {},
     "output_type": "execute_result"
    }
   ],
   "source": [
    "model = SentimentModel(d_model, d_ff, num_heads, max_seq_len, num_classes, vocab_size)\n",
    "model.load_state_dict(torch.load('sentiment_model_state.pth', map_location=torch.device('cpu')))"
   ]
  },
  {
   "cell_type": "code",
   "execution_count": 16,
   "id": "c243393f-c51e-4efc-918d-a1244b9ecaa6",
   "metadata": {},
   "outputs": [],
   "source": [
    "sentences = []\n",
    "sentences.append(\"I saw Hunger Games recently. And I was disappointed by the role played by the main actor. \"\n",
    "            \"The movie is badly produced over all\")\n",
    "sentences.append(\"For the whole duration of the movie I was on the edge of my seat. It was one of the best movies I have ever seen\")\n",
    "sentences.append(\"My visit to the cinema was an underwhelming experience. I honestly expected more from this director\")\n",
    "sentences.append(\"I would recommend this series to everyone. Every episode brings something new. You just can't stop watching it!\")"
   ]
  },
  {
   "cell_type": "code",
   "execution_count": 17,
   "id": "9488a562-3ada-4c09-9188-6ff7109dc618",
   "metadata": {},
   "outputs": [
    {
     "name": "stdout",
     "output_type": "stream",
     "text": [
      "Sentence: I saw Hunger Games recently. And I was disappointed by the role played by the main actor. The movie is badly produced over all was classified as: \u001b[31mnegative\u001b[0m\n",
      "\n",
      "Sentence: For the whole duration of the movie I was on the edge of my seat. It was one of the best movies I have ever seen was classified as: \u001b[32mpositive\u001b[0m\n",
      "\n",
      "Sentence: My visit to the cinema was an underwhelming experience. I honestly expected more from this director was classified as: \u001b[31mnegative\u001b[0m\n",
      "\n",
      "Sentence: I would recommend this series to everyone. Every episode brings something new. You just can't stop watching it! was classified as: \u001b[32mpositive\u001b[0m\n",
      "\n"
     ]
    }
   ],
   "source": [
    "for sentence in sentences:\n",
    "    processed_sentence = tokenize_and_transform(sentence, vocab, tokenizer)\n",
    "    prediction = model(processed_sentence)\n",
    "    prediction = torch.sigmoid(prediction)\n",
    "    sentiment = \"positive\" if prediction.item()>0.5 else \"negative\"\n",
    "    if sentiment == \"positive\":\n",
    "        print(f\"Sentence: {sentence} was classified as: \\033[32m{sentiment}\\033[0m\\n\")\n",
    "    else:\n",
    "        print(f\"Sentence: {sentence} was classified as: \\033[31m{sentiment}\\033[0m\\n\")\n"
   ]
  },
  {
   "cell_type": "code",
   "execution_count": null,
   "id": "af19b738-323c-4731-bfac-d2dd37c1e69c",
   "metadata": {},
   "outputs": [],
   "source": []
  }
 ],
 "metadata": {
  "kernelspec": {
   "display_name": "Python 3 (ipykernel)",
   "language": "python",
   "name": "python3"
  },
  "language_info": {
   "codemirror_mode": {
    "name": "ipython",
    "version": 3
   },
   "file_extension": ".py",
   "mimetype": "text/x-python",
   "name": "python",
   "nbconvert_exporter": "python",
   "pygments_lexer": "ipython3",
   "version": "3.9.13"
  }
 },
 "nbformat": 4,
 "nbformat_minor": 5
}
